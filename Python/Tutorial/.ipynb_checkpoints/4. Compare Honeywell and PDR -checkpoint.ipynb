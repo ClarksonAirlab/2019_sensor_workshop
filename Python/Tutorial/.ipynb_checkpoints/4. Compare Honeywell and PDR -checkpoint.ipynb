{
 "cells": [
  {
   "cell_type": "code",
   "execution_count": 1,
   "metadata": {},
   "outputs": [],
   "source": [
    "%matplotlib inline\n",
    "%config InlineBackend.figure_format='svg'\n",
    "\n",
    "import pandas as pd\n",
    "from datetime import datetime, timedelta\n",
    "\n",
    "import seaborn as sns\n",
    "sns.set()\n",
    "\n",
    "import matplotlib.pyplot as plt\n",
    "#import matplotlib.patches as mpatches\n",
    "import matplotlib.ticker as mticker\n",
    "import matplotlib.dates as mdates\n",
    "import mysql.connector\n",
    "import numpy as np\n",
    "\n",
    "from scipy.signal import savgol_filter   # smooth the data\n",
    "\n",
    "#plt.style.use('seaborn-white')\n",
    "plt.style.use('seaborn-white')"
   ]
  },
  {
   "cell_type": "code",
   "execution_count": 2,
   "metadata": {},
   "outputs": [],
   "source": [
    "pdr = pd.read_csv( \"https://raw.githubusercontent.com/ClarksonAirlab/2019_sensor_workshop/master/Python/Tutorial/Tutorial%20Data/pDR_2_20190805_1.csv\")\n",
    "HW1 = pd.read_csv(\"https://raw.githubusercontent.com/ClarksonAirlab/2019_sensor_workshop/master/Python/Tutorial/Tutorial%20Data/argon24.csv\")\n",
    "HW2 = pd.read_csv(\"https://raw.githubusercontent.com/ClarksonAirlab/2019_sensor_workshop/master/Python/Tutorial/Tutorial%20Data/argon44.csv\")\n"
   ]
  },
  {
   "cell_type": "code",
   "execution_count": 3,
   "metadata": {},
   "outputs": [],
   "source": [
    "pdr[\"Date\"] = pd.to_datetime(pdr[\"date\"])\n",
    "pdr[\"Time\"] = pd.to_timedelta(pdr[\"time\"])\n",
    "pdr[\"DateTime\"] = pdr[\"Date\"] + pdr[\"Time\"]\n",
    "pdr[\"DateTime\"] = pd.to_datetime(pdr[\"DateTime\"])\n"
   ]
  },
  {
   "cell_type": "code",
   "execution_count": 4,
   "metadata": {},
   "outputs": [],
   "source": [
    "HW1.columns = [\"DateTime\",\"id\",\"pm2.5\",\"pm10\",\"Temp\",\"RH\"]\n",
    "HW2.columns = [\"DateTime\",\"id\",\"pm2.5\",\"pm10\",\"Temp\",\"RH\"]\n",
    "HW1[\"DateTime\"] = pd.to_datetime(HW1[\"DateTime\"])\n",
    "HW2[\"DateTime\"] = pd.to_datetime(HW2[\"DateTime\"])\n"
   ]
  },
  {
   "cell_type": "code",
   "execution_count": null,
   "metadata": {},
   "outputs": [],
   "source": [
    "pdr"
   ]
  },
  {
   "cell_type": "code",
   "execution_count": null,
   "metadata": {},
   "outputs": [],
   "source": [
    "fig, ax1 = plt.subplots()\n",
    "fig.set_size_inches(10, 7)\n",
    "ax1.grid(False)\n",
    "\n",
    "\n",
    "lns1=ax1.plot(pdr['DateTime'],pdr['pm2.5'], color='k',linewidth=0.7,label='grimm Raw data')\n",
    "\n",
    "\n",
    "\n",
    "\n"
   ]
  },
  {
   "cell_type": "code",
   "execution_count": null,
   "metadata": {},
   "outputs": [],
   "source": []
  }
 ],
 "metadata": {
  "kernelspec": {
   "display_name": "Python 3",
   "language": "python",
   "name": "python3"
  },
  "language_info": {
   "codemirror_mode": {
    "name": "ipython",
    "version": 3
   },
   "file_extension": ".py",
   "mimetype": "text/x-python",
   "name": "python",
   "nbconvert_exporter": "python",
   "pygments_lexer": "ipython3",
   "version": "3.7.3"
  }
 },
 "nbformat": 4,
 "nbformat_minor": 2
}
