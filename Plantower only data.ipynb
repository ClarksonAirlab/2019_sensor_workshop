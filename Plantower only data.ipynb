{
 "cells": [
  {
   "cell_type": "markdown",
   "metadata": {},
   "source": [
    "# Plantower data only"
   ]
  },
  {
   "cell_type": "code",
   "execution_count": 1,
   "metadata": {},
   "outputs": [],
   "source": [
    "%matplotlib inline\n",
    "%config InlineBackend.figure_format='svg'\n",
    "\n",
    "\n",
    "import numpy as np\n",
    "import pandas as pd\n",
    "import seaborn as sns\n",
    "import matplotlib.pyplot as plt\n",
    "import matplotlib.patches as mpatches\n",
    "import matplotlib.ticker as mticker\n",
    "import matplotlib.dates as mdates\n",
    "sns.set()\n",
    "from datetime import datetime, timedelta\n",
    "from scipy.signal import savgol_filter \n",
    "plt.style.use('seaborn-white')"
   ]
  },
  {
   "cell_type": "code",
   "execution_count": null,
   "metadata": {},
   "outputs": [],
   "source": [
    "df1=pd.read_csv('/Users/nuera/Desktop/argon test4/argon1.csv')\n",
    "df1.columns = [\"Date\",\"id\",'pm1.0',\"pm2.5\",\"pm10\",\"0.3um\",\"0.5um\",\"1.0um\",\"2.5um\",\"5.0um\",\"10um\",\"temp\",\"humidity\"]\n",
    "df1['time'] = pd.to_datetime(df1['Date'])\n",
    "df1.index=df1['time']\n",
    "df1=df1['2019-07-14 16:54:01':'2019-07-14 21:41:00']"
   ]
  }
 ],
 "metadata": {
  "kernelspec": {
   "display_name": "Python 3",
   "language": "python",
   "name": "python3"
  },
  "language_info": {
   "codemirror_mode": {
    "name": "ipython",
    "version": 3
   },
   "file_extension": ".py",
   "mimetype": "text/x-python",
   "name": "python",
   "nbconvert_exporter": "python",
   "pygments_lexer": "ipython3",
   "version": "3.7.3"
  }
 },
 "nbformat": 4,
 "nbformat_minor": 2
}
